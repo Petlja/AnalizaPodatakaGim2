{
 "cells": [
  {
   "cell_type": "markdown",
   "metadata": {},
   "source": [
    "# 4. Рад са текстуалним датотекама\n",
    "\n",
    "У овој лекцији:\n",
    "\n",
    "1. уводимо појам текстуалне датотеке;\n",
    "2. објашњавамо како се чита из текстуалне датотеке;\n",
    "3. објашњавамо како се пише у текстуалну датотеку; и\n",
    "4. показујемо како се ради са више датотека."
   ]
  },
  {
   "cell_type": "markdown",
   "metadata": {},
   "source": [
    "## 4.1. Текстуалне датотеке\n",
    "\n",
    "*Датотека* (или *фајл*) је произвољно дугачак низ података који се налази на спољашњој меморији, најчешће диску. Постоје разне врсте датотека, а ми ћемо се у овом одељку бавити текстуалним датотекама.\n",
    "\n",
    "*Текстуална датотека* је низ симбола као што су слова, бројеви, знаци интерпункције и слично, који се налази на спољашњој меморији. На пример, када у неком едитору као што је *Notepad* откуцамо неки текст\n",
    "\n",
    "![Tekst](slike/Y104.jpg)\n",
    "\n",
    "и када га \"снимимо\", оперативни систем ће тај текст сместити у текстуалну датотеку на диску.\n",
    "\n",
    "![Tekst](slike/Y105.jpg)\n",
    "\n",
    "Свака датотека мора да има име, а обичај је да се име датотеке организује тако да последњих неколико симбола у имену означава тип података који је смештен у датотеку. Тај део имена се обично одвоји тачком од остатка имена и зове се *екстензија*. Текстуалне датотеке обично имају екстензију `.txt` као у следећем примеру:\n",
    "\n",
    "    Hamlet.txt\n",
    "\n",
    "Дакле, ова датотека се зове `Hamlet.txt`, а због екстензије `.txt` знамо да се ради о текстуалној датотеци коју можемо отворити из програма *Notepad*, рецимо.\n",
    "\n",
    "Пре било какве акције са текстуалном датотеком (писање у датотеку или читање из датотеке) она мора да се \"отвори\", а након акције мора да се \"затвори\". Као са свеском: да бисмо писали у свеску или читали из свеске морамо прво да је отворимо, а када завршимо морамо да је затворимо. Зато сваки програм који ради са текстуалним датотекама има овакву структуру:\n",
    "\n",
    "    f = open(...) # otvorimo datoteku\n",
    "    ...           # radimo nešto\n",
    "    ...           # radimo nešto\n",
    "    f.close()     # zatvorimo datoteku\n",
    "\n",
    "У зависности од тога на који начин је датотека отворена зависиће да ли у њу може да се пише или да се само чита. Свака датотека која се отвори из Пајтона мора да добије име у облику неке променљиве и кроз ту променљиву програм комуницира са датотеком на диску.\n",
    "\n",
    "![Tekst](slike/Y106.jpg)\n",
    "\n",
    "Податке из неке датотеке можемо или *само да читамо*, или је могућ *само упис* у датотеку. Није могуће истовремено и писати у неку датотеку и читати из ње. "
   ]
  },
  {
   "cell_type": "markdown",
   "metadata": {},
   "source": [
    "## 4.2. Читање из текстуалне датотеке\n",
    "\n",
    "У фолдеру *podaci* налази се текстуална датотека *iliad.txt* која садржи енглески превод Хомерове *Илијаде*. Ако отворимо ову датотеку из неког едитора као што је *Notepad* видећемо да текстуална датотека изгледа као текст који је организован у редове, рецимо овако:\n",
    "\n",
    "    The Project Gutenberg eBook of The Iliad, by Homer\n",
    "    Translated by Edward, Earl of Derby\n",
    "\n",
    "    BOOK I.\n",
    "\n",
    "    Of Peleus' son, Achilles, sing, O Muse,\n",
    "    The vengeance, deep and deadly; whence to Greece\n",
    "    Unnumbered ills arose; which many a soul\n",
    "    Of mighty warriors to the viewless shades\n",
    "    Untimely sent; they on the battle plain\n",
    "    Unburied lay, a prey to rav'ning dogs,\n",
    "    And carrion birds; but so had Jove decreed,\n",
    "    From that sad day when first in wordy war,\n",
    "    The mighty Agamemnon, King of men,\n",
    "    Confronted stood by Peleus' godlike son.\n",
    "    ...\n",
    "\n",
    "Следећа команда отвара ову датотеку за читање:\n",
    "\n",
    "    f = open(\"podaci/iliad.txt\", \"r\")\n",
    "\n",
    "Команда `open` потражи датотеку `\"podaci/iliad.txt\"` (што значи да у фолдеру *podaci* треба потражити датотеку *iliad.txt*). Аргумент `\"r\"` команде `open` каже Пајтону да датотеку треба припремити за читање (ознака `r` потиче од првог слова енглеске речи *read* што значи \"читај\").\n",
    "\n",
    "Када смо датотеку припремили за читање, најзгодније је да је прочитамо ред по ред, што се у Пајтону може постићи употребом `for` циклуса. Команда\n",
    "\n",
    "    for red in f:\n",
    "        # uradimo nešto sa redom\n",
    "\n",
    "ће читати податке из датотеке `f` ред по ред:\n",
    "\n",
    "* програм прочита први ред из датотеке и упише га у променљиву `red`;\n",
    "* па изврши тело циклуса;\n",
    "* онда прочита други ред из датотеке и упише га у променљиву `red`;\n",
    "* па изврши тело циклуса;\n",
    "* и тако за сваки ред датотеке.\n",
    "\n",
    "На крају не смемо заборавити да затворимо датотеку:\n",
    "\n",
    "    f.close()"
   ]
  },
  {
   "cell_type": "markdown",
   "metadata": {},
   "source": [
    "**Пример.** У фолдеру *podaci* налази се текстуална датотека *iliad.txt* која садржи енглески превод Хомерове *Илијаде*. Написати Пајтон програм који броји редове у тој датотеци.\n",
    "\n",
    "*Решење.*"
   ]
  },
  {
   "cell_type": "code",
   "execution_count": null,
   "metadata": {},
   "outputs": [],
   "source": [
    "f = open(\"podaci/iliad.txt\", \"r\")\n",
    "br_redova = 0\n",
    "for red in f:\n",
    "    br_redova += 1\n",
    "f.close()\n",
    "print(\"Datoteka iliad.txt ima\", br_redova, \"redova\")"
   ]
  },
  {
   "cell_type": "markdown",
   "metadata": {},
   "source": [
    "**Пример.** У фолдеру *podaci* налази се текстуалнa datoteka *iliad.txt* којa садржи енглески превод Хомерове *Илијаде*. Пошто је *Илијада* веома дугачак спев Хомер га је поделио у делове које је звао *Књиге* (у давна времена када је писмених људи било веома мало обичај је био да се свака мало дужа писана форма зове *књига*, слично као у народној песми: \"Па он одмах ситну књигу пише/Те је шаље цару у Стамбола\").\n",
    "\n",
    "Написати Пајтон програм који утврђује из колико делова/књига се састоји *Илијада*. Почетак књиге је означен редом који изгледа овако:\n",
    "\n",
    "    BOOK ...\n",
    "\n",
    "(да се подсетимо, радимо са енглеским преводом *Илијаде*, па се књиге зову \"book\").\n",
    "\n",
    "*Решење.*"
   ]
  },
  {
   "cell_type": "code",
   "execution_count": null,
   "metadata": {},
   "outputs": [],
   "source": [
    "f = open(\"podaci/iliad.txt\", \"r\")\n",
    "br_knjiga = 0\n",
    "for red in f:\n",
    "    if red[:4] == \"BOOK\":\n",
    "        br_knjiga += 1\n",
    "f.close()\n",
    "print(\"Homerova Ilijada ima\", br_knjiga, \"knjige\")"
   ]
  },
  {
   "cell_type": "markdown",
   "metadata": {},
   "source": [
    "**Пример.** Написати Пајтон програм који утврђује колико се пута у Хомеровој *Илијади* помиње Ахил, а колико пута Хектор. Пошто радимо са енглеским преводом *Илијаде* у тексту тражимо речи \"Achilles\" и \"Hector\".\n",
    "\n",
    "*Решење 1.* За решење нам је потребна функција `prebroj_podstr(p, s)` из претходног поглавља која утврђује колико се пута стринг `p` јавља као подстринг стринга `s`. Онда прођемо datoteku ред по ред и пребројимо колико се пута у том реду јављају имена ова два јунака."
   ]
  },
  {
   "cell_type": "code",
   "execution_count": null,
   "metadata": {},
   "outputs": [],
   "source": [
    "def prebroj_podstr(p, s):\n",
    "    broj = 0\n",
    "    n = len(p)\n",
    "    for i in range(len(s) - n + 1):\n",
    "        if p == s[i:i+n]:\n",
    "            broj += 1\n",
    "    return broj\n",
    "\n",
    "f = open(\"podaci/iliad.txt\", \"r\")\n",
    "br_ahil = 0\n",
    "br_hektor = 0\n",
    "for red in f:\n",
    "    br_ahil += prebroj_podstr(\"Achilles\", red)\n",
    "    br_hektor += prebroj_podstr(\"Hector\", red)\n",
    "f.close()\n",
    "print(\"Ahil se pominje\", br_ahil, \"puta\")\n",
    "print(\"Hektor se pominje\", br_hektor, \"puta\")"
   ]
  },
  {
   "cell_type": "markdown",
   "metadata": {},
   "source": [
    "*Решење 2.* Ако су датотеке са којима радимо релативно мале (а то зависи од количине меморије коју имамо) могуће је функцијом `read()` учитати целу датотеку у меморију као један велики стринг. Тада је довољно у том великом стрингу пребројати колико се пута јављају имена легендарних јунака."
   ]
  },
  {
   "cell_type": "code",
   "execution_count": null,
   "metadata": {},
   "outputs": [],
   "source": [
    "def prebroj_podstr(p, s):\n",
    "    broj = 0\n",
    "    n = len(p)\n",
    "    for i in range(len(s) - n + 1):\n",
    "        if p == s[i:i+n]:\n",
    "            broj += 1\n",
    "    return broj\n",
    "\n",
    "f = open(\"podaci/iliad.txt\", \"r\")\n",
    "ceo_tekst = f.read()\n",
    "f.close()\n",
    "\n",
    "print(\"Ahil se pominje\", prebroj_podstr(\"Achilles\", ceo_tekst), \"puta\")\n",
    "print(\"Hektor se pominje\", prebroj_podstr(\"Hector\", ceo_tekst), \"puta\")"
   ]
  },
  {
   "cell_type": "markdown",
   "metadata": {},
   "source": [
    "## 4.3. Читање сложенијих података представљених текстуалним датотекама\n",
    "\n",
    "Као што смо већ видели, постоје разни формати за табеларно представљање података, а најједноставнији од њих се зове _CSV_, (од енгл. _comma separated values_ што значи \"вредности раздвојене зарезима\"). Интересантно је да је _CSV_ датотека је *текстуална датотека* у којој редови одговарају редовима табеле, а подаци унутар истог реда су раздвојени зарезима. На пример, у фолдеру _podaci_ се налази датотека _Top 25 YouTubers.csv_ која изгледа овако:\n",
    "\n",
    "    RANK,GRADE,NAME,VIDEOS,SUBSCRIBERS,VIEWES\n",
    "    1,A++,T-Series,13629,105783888,76945588449\n",
    "    2,A,PewDiePie,3898,97853589,22298927681\n",
    "    3,A+,5-Minute Crafts,3341,58629572,14860695079\n",
    "    4,A++,Cocomelon - Nursery Rhymes,441,53163816,33519273951\n",
    "    ...\n",
    "    25,A,TheEllenShow,10542,33362512,16519572219\n",
    "\n",
    "Ова табела садржи податке о 25 најпопуларнијих Јутјубера према броју претплатника на дан 1.7.2019. Први ред табеле представља заглавље табеле које нам каже да табела има шест колона (RANK, GRADE, NAME, VIDEOS, SUBSCRIBERS, VIEWES). Врста\n",
    "\n",
    "    4,A++,Cocomelon - Nursery Rhymes,441,53163816,33519273951\n",
    "\n",
    "значи да је на дан 1.7.2019. четврти по реду био Јутјуб канал са Јутјуб рангом А++ који се зове \"Cocomelon - Nursery Rhymes\" који је објавио укупно 441 видео на Јутјубу, који има 53.163.816 претплатника и 33.519.273.951 прегледа.\n",
    "\n",
    "Када прочитамо један ред ове датотеке (осим првог реда, наравно!) добићемо *један* стринг у коме су подаци раздвојени зарезима. Да бисмо могли да анализирамо податке који су уписани у ред треба нам начин да \"разбијемо\" ред на појединачне податке. Томе слуши функција `split()` чије име потиче од енглеске речи *split* што значи \"раздвој\".\n",
    "\n",
    "На пример, нека је"
   ]
  },
  {
   "cell_type": "code",
   "execution_count": null,
   "metadata": {},
   "outputs": [],
   "source": [
    "red = \"4,A++,Cocomelon - Nursery Rhymes,441,53163816,33519273951\""
   ]
  },
  {
   "cell_type": "markdown",
   "metadata": {},
   "source": [
    "Када напишемо:"
   ]
  },
  {
   "cell_type": "code",
   "execution_count": null,
   "metadata": {},
   "outputs": [],
   "source": [
    "s = red.split(\",\")"
   ]
  },
  {
   "cell_type": "markdown",
   "metadata": {},
   "source": [
    "променљива функција `split` ће разбити стринг `red` на делове који су у стрингу раздвојени зарезима, и променљива `s` ће тада бити низ *стрингова*:"
   ]
  },
  {
   "cell_type": "code",
   "execution_count": null,
   "metadata": {},
   "outputs": [],
   "source": [
    "s"
   ]
  },
  {
   "cell_type": "markdown",
   "metadata": {},
   "source": [
    "Сада можемо лако приступити сваком елементу овог низа.\n",
    "\n",
    "Све време, међутим, треба водити рачуна о томе да функција `split` враћа низ *стрингова*, па ако неки од њих представља број, да бисмо од стринга направили одговарајући број треба користити уграђене функције `int` или `float`."
   ]
  },
  {
   "cell_type": "markdown",
   "metadata": {},
   "source": [
    "**Пример.** У фолдеру _podaci_ се налази датотека _Top 25 YouTubers.csv_ која садржи податке о 25 најпопуларнијих Јутјубера према броју претплатника на дан 1.7.2019. Први ред табеле представља заглавље табеле које нам каже да табела има шест колона (RANK, GRADE, NAME, VIDEOS, SUBSCRIBERS, VIEWES).\n",
    "\n",
    "Написати Пајтон програм који чита податке из ове датотеке и одређује који од ових 25 канала је објавио највише видеа.\n",
    "\n",
    "*Решење.* Први ред у датотеци представља заглавље табеле и њега треба да прескочимо. То можемо постићи функцијом `readline()` која прочита један ред из датотеке. Зато одмах након отварања датотеке наредбом\n",
    "\n",
    "    red = f.readline()\n",
    "\n",
    "прочитамо и одбацимо први ред. `For` циклус који следи наставља да чита датотеку ред по ред. Сваком учитани ред прво разбијемо на појединачне податке позивом функције `split(\",\")`, а онда из добијеног низа *стрингова* читамо елементе који нас занимају. Конкретно, `s[2]` садржи име канала, док `s[3]` представља *стринг* репрезентацију броја објављених видеа. Да бисмо овај податак добили у облику броја која можемо поредити са другим бројевима користимо функцију `int` овако: `int(s[3])`."
   ]
  },
  {
   "cell_type": "code",
   "execution_count": null,
   "metadata": {},
   "outputs": [],
   "source": [
    "f = open(\"podaci/Top 25 YouTubers.csv\", \"r\")\n",
    "red = f.readline() # prvi red predstavlja zaglavlje tabele i njega preskacemo\n",
    "br_vid = 0\n",
    "naj_kanal = \"\"\n",
    "for red in f:\n",
    "    s = red.split(\",\")\n",
    "    if int(s[3]) > br_vid:\n",
    "        br_vid = int(s[3])\n",
    "        naj_kanal = s[2]\n",
    "f.close()\n",
    "print(\"Najvise videa je objavio kanal\", naj_kanal)"
   ]
  },
  {
   "cell_type": "markdown",
   "metadata": {},
   "source": [
    "## 4.4. Писање у текстуалну датотеку\n",
    "\n",
    "Када желимо нешто да упишемо у текстуалну датотеку морамо је прво припремити за уписивање тако што је отворимо овако:\n",
    "\n",
    "    f = open(\"pesmica.txt\", \"w\")\n",
    "\n",
    "или овако:\n",
    "\n",
    "    f = open(\"pesmica.txt\", \"а\")\n",
    "\n",
    "Ако датотеку отворимо на први предложени начин, аргумент `\"w\"` команде `open` каже Пајтону да датотеку треба припремити за писање (ознака `w` потиче од првог слова енглеске речи *write* што значи \"пиши\"). Пајтон ће припремити датотеку за упис података, а ако је можда  у систему постојала датотека са истим именом *њен садржај ће бити избрисан!* Дакле, `open(\"pesmica.txt\", \"w\")` ће отворити нову, *празну* датотеку и спремити је за упис података.\n",
    "\n",
    "Ако датотеку отворимо на други начин, аргумент `\"a\"` команде `open` каже Пајтону да датотеку треба припремити за додавање новог садржаја на крај постојеће датотеке (ознака `a` потиче од првог слова енглеске речи *append* што значи \"доддај\"). Пајтон ће припремити датотеку за упис података тако што ће је отворити и нови садржај ће бити дописан иза постојећег садржаја. Дакле, `open(\"pesmica.txt\", \"a\")` ће отворити датотеку и спремити је за додавање података иза онога што већ пише у датотеци. Ако датотека са наведеним именом не постоји у систему, Пајтон ће отворити нову празну датотеку и припремити је за упис.\n",
    "\n",
    "У текстуалну датотеку уписујемо податке командом `write`, на пример овако:\n",
    "\n",
    "    f.write(\"Tekst koji se upisuje u datoteku\")\n",
    "\n",
    "Командом `write` у датотеку можемо да уписујемо само стрингове. Ако желимо да у датотеку упишемо неку другу врсту података, он прво мора бити конвертована у стринг позивом уграђене функције `str`.\n",
    "\n",
    "Када завршимо уписивање, датотеку затварамо као и раније позивом команде `close`, на пример овако:\n",
    "\n",
    "    f.close()"
   ]
  },
  {
   "cell_type": "markdown",
   "metadata": {},
   "source": [
    "**Пример.** У датотеку \"pitagora.txt\" уписати чувену интерпретацију Питагорине теореме Душка Радовића:\n",
    "\n",
    "    Kvadrat nad hipotenuzom,\n",
    "    to zna svako dete,\n",
    "    jednak je zbiru kvadrata\n",
    "    nad obe katete.\n",
    "\n",
    "*Решење 1.*"
   ]
  },
  {
   "cell_type": "code",
   "execution_count": null,
   "metadata": {},
   "outputs": [],
   "source": [
    "f = open(\"pitagora.txt\", \"w\")\n",
    "f.write(\"Kvadrat nad hipotenuzom,\")\n",
    "f.write(\"to zna svako dete,\")\n",
    "f.write(\"jednak je zbiru kvadrata\")\n",
    "f.write(\"nad obe katete.\")\n",
    "f.close()"
   ]
  },
  {
   "cell_type": "markdown",
   "metadata": {},
   "source": [
    "Ако сада погледамо шта је уписано у датотеку, рецимо користећи програм *Notepad*, видећемо да ствари нису баш онакве како смо из замислили:\n",
    "\n",
    "![Pitagora](slike/Y107.jpg)\n",
    "\n",
    "Све је уписано у исти ред!\n",
    "\n",
    "Наредба `write` уписује податке у датотеку, али све смешта у исти ред. Да бисмо прешли у нови ред *морамо то експлицитно да нагласимо* тако што ћемо на крај сваког реда додати специјални симбол:\n",
    "\n",
    "    \\n\n",
    "\n",
    "Овај симбол спада у посебну класу *контролних симбола* који се не виде када погледамо текстуалну датотеку из програма као што је *Notepad*, али им говоре да на том месту треба прећи у *нови ред*. Слово \"n\" је одабрано за име овог контролног симбола зато што је то прво слово енглеске речи *newline* што значи \"нови ред\". Специјални симбол испред слова \"n\" (обрнута коса црта) значи да се ради не о латиничном слову \"n\" већ о контролном сиболу чије име је \"n\". Ево сада исправног решења.\n",
    "\n",
    "*Решење 2.*"
   ]
  },
  {
   "cell_type": "code",
   "execution_count": null,
   "metadata": {},
   "outputs": [],
   "source": [
    "f = open(\"pitagora.txt\", \"w\")\n",
    "f.write(\"Kvadrat nad hipotenuzom,\\n\")\n",
    "f.write(\"to zna svako dete,\\n\")\n",
    "f.write(\"jednak je zbiru kvadrata\\n\")\n",
    "f.write(\"nad obe katete.\\n\")\n",
    "f.close()"
   ]
  },
  {
   "cell_type": "markdown",
   "metadata": {},
   "source": [
    "Ако сада погледамо шта је уписано у датотеку добићемо:\n",
    "\n",
    "![Pitagora](slike/Y108.jpg)\n",
    "\n",
    "као што смо и желели. Приметимо да је други позив наредбе `open(\"pitagora.txt\", \"w\")` прво обрисао стару датотеку!"
   ]
  },
  {
   "cell_type": "markdown",
   "metadata": {},
   "source": [
    "**Пример.** Написати програм који у текстуалну датотеку `pesmica.txt` уписује чувену дечију песмицу \"Ten Little Monkeys\":\n",
    "\n",
    "    10 little monkeys were jumping on a bed\n",
    "    one fell off and bumped its head.\n",
    "    Mommy called the doctor and the doctor said:\n",
    "    'No more monkeys jumping on the bed!'\n",
    "\n",
    "    9 little monkeys were jumping on a bed\n",
    "    one fell off and bumped its head.\n",
    "    Mommy called the doctor and the doctor said:\n",
    "    'No more monkeys jumping on the bed!'\n",
    "\n",
    "    ...\n",
    "\n",
    "    2 little monkeys were jumping on a bed\n",
    "    one fell off and bumped its head.\n",
    "    Mommy called the doctor and the doctor said:\n",
    "    'No more monkeys jumping on the bed!'\n",
    "\n",
    "    1 little monkey was jumping on a bed\n",
    "    it fell off and bumped its head.\n",
    "    Mommy called the doctor and the doctor said:\n",
    "    'Put those monkeys back to bed!'\n",
    "\n",
    "*Решење.*\n",
    "\n",
    "Приметимо да првих девет строфа има исту структуру и да је једина разлика међу њима број којим строфа почиње. Десета строфа, с друге стране, има потпуно другачију структуру. Зато ћемо првих девет строфа генерисати у цинклусу, док ћемо десету строфу исписати посебно."
   ]
  },
  {
   "cell_type": "code",
   "execution_count": null,
   "metadata": {},
   "outputs": [],
   "source": [
    "f = open(\"pesmica.txt\", \"w\")\n",
    "for i in range(9):\n",
    "    f.write(str(10 - i) + \" little monkeys were jumping on a bed\\n\")\n",
    "    f.write(\"one fell off and bumped its head.\\n\")\n",
    "    f.write(\"Mommy called the doctor and the doctor said:\\n\")\n",
    "    f.write(\"'No more monkeys jumping on the bed!'\\n\")\n",
    "    f.write(\"\\n\")\n",
    "# poslednja strofa\n",
    "f.write(\"1 little monkey was jumping on a bed\\n\")\n",
    "f.write(\"it fell off and bumped its head.\\n\")\n",
    "f.write(\"Mommy called the doctor and the doctor said:\\n\")\n",
    "f.write(\"'Put those monkeys back to bed!'\\n\")\n",
    "f.close()"
   ]
  },
  {
   "cell_type": "markdown",
   "metadata": {},
   "source": [
    "## 4.5. Рад са више датотека истовремено\n",
    "\n",
    "Пајтон програм може да ради са више датотека истовремено. Важно је да свакој датотеци буде додељена њена променљива и онда систем лако зна шта у коју датотеку треба да се упише. Такав програм има овакву структуру:\n",
    "\n",
    "    f = open(...)  # otvorimo prvu datoteku\n",
    "    g = open(...)  # otvorimo drugu datoteku\n",
    "    ...            # radimo nešto\n",
    "    ...            # radimo nešto\n",
    "    f.close()      # zatvorimo prvu datoteku\n",
    "    g.close()      # zatvorimo drugu datoteku"
   ]
  },
  {
   "cell_type": "markdown",
   "metadata": {},
   "source": [
    "**Пример.** Написати Пајтон програм који у датотеку `podaci/duzine.txt` уписује дужине редова из датотеке `podaci/iliad.txt`.\n",
    "\n",
    "*Решење.* Подсетимо се да командом `write` у датотеку можемо да уписујемо само стрингове. Ако је потребно да у датотеку упишемо неку другу врсту података, он прво мора бити конвертована у стринг позивом уграђене функције `str`. Специјални симбол `\\n` означава крај реда, тако да ће бројеви бити уписани сваки у посебан ред."
   ]
  },
  {
   "cell_type": "code",
   "execution_count": null,
   "metadata": {},
   "outputs": [],
   "source": [
    "f = open(\"podaci/iliad.txt\", \"r\")\n",
    "g = open(\"podaci/duzine.txt\", \"w\")\n",
    "for red in f:\n",
    "    n = len(red)\n",
    "    g.write(str(n) + \"\\n\")\n",
    "f.close()\n",
    "g.close()"
   ]
  },
  {
   "cell_type": "markdown",
   "metadata": {},
   "source": [
    "**Пример.** Датотеке `podaci/BOOK01.txt`, `podaci/BOOK02.txt`, ..., `podaci/BOOK12.txt` садрже првих дванаест књига енглеског превода Хомерове *Илијаде*. Ових првих дванаест књига чине први део *Илијаде*. Написати Пајтон програм који их спаја у једну датотеку под именом `iliad_vol1.txt`. Прва два реда у датотеци треба да гласе:\n",
    "\n",
    "    The Project Gutenberg eBook of The Iliad, by Homer\n",
    "    Translated by Edward, Earl of Derby\n",
    "\n",
    "Поред тога, између сваке две књиге треба оставити два празна реда. На крај треба додати ред\n",
    "\n",
    "    END OF VOLUME I.\n",
    "\n",
    "*Решење.* Пошто треба да надовежемо низ датотека, основну датотеку ћемо отворити за писање употребом параметра `\"a\"` (што је скраћено од \"append\" -- додај на крај)."
   ]
  },
  {
   "cell_type": "code",
   "execution_count": null,
   "metadata": {},
   "outputs": [],
   "source": [
    "vol1 = open(\"podaci/iliad_vol1.txt\", \"a\")\n",
    "vol1.write(\"The Project Gutenberg eBook of The Iliad, by Homer\\n\")\n",
    "vol1.write(\"Translated by Edward, Earl of Derby\\n\")\n",
    "vol1.write(\"\\n\")\n",
    "vol1.write(\"\\n\")\n",
    "\n",
    "datoteke = [\"podaci/BOOK01.txt\", \"podaci/BOOK02.txt\", \"podaci/BOOK03.txt\", \"podaci/BOOK04.txt\",\n",
    "            \"podaci/BOOK05.txt\", \"podaci/BOOK06.txt\", \"podaci/BOOK07.txt\", \"podaci/BOOK08.txt\",\n",
    "            \"podaci/BOOK09.txt\", \"podaci/BOOK10.txt\", \"podaci/BOOK11.txt\", \"podaci/BOOK12.txt\"]\n",
    "\n",
    "for dat in datoteke:\n",
    "    f = open(dat, \"r\");\n",
    "    s = f.read()\n",
    "    vol1.write(s)\n",
    "    vol1.write(\"\\n\")\n",
    "    vol1.write(\"\\n\")\n",
    "    f.close()\n",
    "\n",
    "vol1.write(\"END OF VOLUME I.\\n\")\n",
    "vol1.close()"
   ]
  },
  {
   "cell_type": "markdown",
   "metadata": {},
   "source": [
    "## 4.6. Задаци"
   ]
  },
  {
   "cell_type": "markdown",
   "metadata": {},
   "source": [
    "**Задатак 1.** У фолдеру *podaci* налази се текстуалнa datoteka *iliad.txt* којa садржи енглески превод Хомерове *Илијаде*. Написати Пајтон програм који одређује колико у овој датотеци има слова која нису празнине, ни специјални симболи."
   ]
  },
  {
   "cell_type": "markdown",
   "metadata": {},
   "source": [
    "**Задатак 2.** У фолдеру *podaci* налази се текстуалнa datoteka *iliad.txt* којa садржи енглески превод Хомерове *Илијаде*. Написати Пајтон програм који одређује колико речи има у овој датотеци."
   ]
  },
  {
   "cell_type": "markdown",
   "metadata": {},
   "source": [
    "**Задатак 3.** Написати Пајтон програм који упоређује две текстуалне датотеке и исписује први ред у које је детектована разлика. Програм треба да испише редни број тог реда, као и сам ред."
   ]
  },
  {
   "cell_type": "markdown",
   "metadata": {},
   "source": [
    "**Задатак 4.** У фолдеру *podaci* налази се текстуалнa datoteka *iliad.txt* којa садржи енглески превод Хомерове *Илијаде*. Написати Пајтон програм који ову датотеку преписује у нову која се зове *iliad-num.txt* у којој сваки непразан ред има свој број, рецимо овако:\n",
    "\n",
    "       1. The Project Gutenberg eBook of The Iliad, by Homer\n",
    "       2. Translated by Edward, Earl of Derby\n",
    "\n",
    "       3. BOOK I.\n",
    "\n",
    "       4. Of Peleus' son, Achilles, sing, O Muse,\n",
    "       5. The vengeance, deep and deadly; whence to Greece\n",
    "       6. Unnumbered ills arose; which many a soul\n",
    "       7. Of mighty warriors to the viewless shades\n",
    "       8. Untimely sent; they on the battle plain\n",
    "       9. Unburid lay, a prey to rav'ning dogs,\n",
    "      10. And carrion birds; but so had Jove decreed,\n",
    "      11. From that sad day when first in wordy war,\n",
    "      12. The mighty Agamemnon, King of men,\n",
    "      13. Confronted stood by Peleus' godlike son.\n",
    "      14. ..."
   ]
  },
  {
   "cell_type": "markdown",
   "metadata": {},
   "source": [
    "**Задатак 5.** у тексуталној датотеци *podaci/brojevi.txt* налази се више редова текста, а сваки ред се састоји из низа бројева раздвојених зарезима. Написати Пајтон програм који чита ову датотеку и у текстулану датотеку *brojevi-izlaz.txt* уписује, ред по ред, збирове бројева из сваког реда. Дакле, први ред датотеке *brojevi-izlaz.txt* садржи само један број који је збир бројева из првог реда датотеке *podaci/brojevi.txt* и тако редом."
   ]
  },
  {
   "cell_type": "markdown",
   "metadata": {},
   "source": [
    "**Задатак 6** У фолдеру *podaci* налази се текстуалнa datoteka *iliad.txt* којa садржи енглески превод Хомерове *Илијаде*. Написати Пајтон програм који ову датотеку преписује у нову која се зове *iliad-num5.txt* у којој сваки пети непразан ред има свој број, рецимо овако:\n",
    "\n",
    "          The Project Gutenberg eBook of The Iliad, by Homer\n",
    "          Translated by Edward, Earl of Derby\n",
    "\n",
    "          BOOK I.\n",
    "\n",
    "          Of Peleus' son, Achilles, sing, O Muse,\n",
    "       5. The vengeance, deep and deadly; whence to Greece\n",
    "          Unnumbered ills arose; which many a soul\n",
    "          Of mighty warriors to the viewless shades\n",
    "          Untimely sent; they on the battle plain\n",
    "          Unburid lay, a prey to rav'ning dogs,\n",
    "      10. And carrion birds; but so had Jove decreed,\n",
    "          From that sad day when first in wordy war,\n",
    "          The mighty Agamemnon, King of men,\n",
    "          Confronted stood by Peleus' godlike son.\n",
    "          ..."
   ]
  },
  {
   "cell_type": "markdown",
   "metadata": {},
   "source": [
    "**Задатак 7.** Датотеке `podaci/BOOK01.txt`, `podaci/BOOK02.txt`, ..., `podaci/BOOK12.txt` садрже првих дванаест књига енглеског превода Хомерове *Илијаде*. Написати Пајтон програм који утврђује која од ових дванаест књига има највише речи, као и о ком броју речи се ради."
   ]
  },
  {
   "cell_type": "markdown",
   "metadata": {},
   "source": [
    "**Задатак 8.** Датотеке `podaci/BOOK01.txt`, `podaci/BOOK02.txt`, ..., `podaci/BOOK12.txt` садрже првих дванаест књига енглеског превода Хомерове *Илијаде*. Написати Пајтон програм који за сваку од првих дванаест књига у датотеку `iliad-books.txt` уписује колико речи има у тој књизи. Подаци о свакој књизи се уписују у посебан ред."
   ]
  }
 ],
 "metadata": {
  "kernelspec": {
   "display_name": "Python 3",
   "language": "python",
   "name": "python3"
  },
  "language_info": {
   "codemirror_mode": {
    "name": "ipython",
    "version": 3
   },
   "file_extension": ".py",
   "mimetype": "text/x-python",
   "name": "python",
   "nbconvert_exporter": "python",
   "pygments_lexer": "ipython3",
   "version": "3.7.4"
  }
 },
 "nbformat": 4,
 "nbformat_minor": 2
}
