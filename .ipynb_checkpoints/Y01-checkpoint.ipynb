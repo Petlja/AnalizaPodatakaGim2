{
 "cells": [
  {
   "cell_type": "markdown",
   "metadata": {},
   "source": [
    "# 1. Увод у процесирање низова података\n",
    "\n",
    "У овој лекцији ћемо:\n",
    "\n",
    "1. поновити како се записују низови података,\n",
    "2. поновити како се дефинишу функције,\n",
    "3. написаћемо своју функцију која рачуна најмањи број у датом низу бројева, и\n",
    "4. поновити неколико функција које су уграћене у Пајтон."
   ]
  },
  {
   "cell_type": "markdown",
   "metadata": {},
   "source": [
    "## 1.1. Записивање низова података\n",
    "\n",
    "Да се подсетимо, Низови података се у Пајтону записују унутар угластих заграда, у облику *листе*. На пример, оцене неког ученика из једног предмета могу да се запишу као низ овако:"
   ]
  },
  {
   "cell_type": "code",
   "execution_count": null,
   "metadata": {},
   "outputs": [],
   "source": [
    "Dejanove_ocene = [2, 4, 5, 3, 5]"
   ]
  },
  {
   "cell_type": "markdown",
   "metadata": {},
   "source": [
    "Ово је пример *нумеричког* низа података, где су сви подаци бројеви. Низ података, наравно, не мора бити нумерички. На пример:"
   ]
  },
  {
   "cell_type": "code",
   "execution_count": null,
   "metadata": {},
   "outputs": [],
   "source": [
    "predmeti = [\"matematika\", \"srpski\", \"likovno\", \"istorija\", \"fizičko\"]"
   ]
  },
  {
   "cell_type": "markdown",
   "metadata": {},
   "source": [
    "или овако:"
   ]
  },
  {
   "cell_type": "code",
   "execution_count": null,
   "metadata": {},
   "outputs": [],
   "source": [
    "Ocene = [\"Dejan\", 2, 4, 5, 5, 3]"
   ]
  },
  {
   "cell_type": "markdown",
   "metadata": {},
   "source": [
    "Раније смо видели да подаци у низу могу бити и други низови података:"
   ]
  },
  {
   "cell_type": "code",
   "execution_count": null,
   "metadata": {},
   "outputs": [],
   "source": [
    "Ocene_II3 = [\n",
    "    [\"Dejan\", 2, 4, 5, 5, 3],\n",
    "    [\"Milica\", 4, 5, 5, 4, 5],\n",
    "    [\"Milan\", 3, 4, 5, 5, 5]\n",
    "]"
   ]
  },
  {
   "cell_type": "markdown",
   "metadata": {},
   "source": [
    "О низу података можемо да размишљамо као о улици у којој свака кућица има свој кућни број. Специфичност Пајтона је у томе да кућни бројеви увек почињу од 0, рецимо овако:\n",
    "\n",
    "![Niz podataka](slike/Y101.jpg)"
   ]
  },
  {
   "cell_type": "markdown",
   "metadata": {},
   "source": [
    "Број елемената низа се добија позивом уграђене функције `len` (од енглеског *length* што значи \"дужина\"):"
   ]
  },
  {
   "cell_type": "code",
   "execution_count": null,
   "metadata": {},
   "outputs": [],
   "source": [
    "len(predmeti)"
   ]
  },
  {
   "cell_type": "markdown",
   "metadata": {},
   "source": [
    "Ако желимо да приступимо појединачној кућици довољно је да наведемо њену \"адресу\" која се, као и поштанска адреса, састоји од имена улице иза кога се наводи кућни број, рецимо овако:\n",
    "\n",
    "    Dejanove_ocene[0]\n",
    "\n",
    "На пример:"
   ]
  },
  {
   "cell_type": "code",
   "execution_count": null,
   "metadata": {},
   "outputs": [],
   "source": [
    "print(Dejanove_ocene[1])"
   ]
  },
  {
   "cell_type": "markdown",
   "metadata": {},
   "source": [
    "Вредности бројева у кућицама се могу мењати веома једноставно. Рецимо, ако Дејан поправо оцену која је уписана у прву кућицу (*чији кућни број је 0!*) то можемо регистровати овако:"
   ]
  },
  {
   "cell_type": "code",
   "execution_count": null,
   "metadata": {},
   "outputs": [],
   "source": [
    "Dejanove_ocene[0] = 5"
   ]
  },
  {
   "cell_type": "markdown",
   "metadata": {},
   "source": [
    "Стање у улици `Dejanove_ocene` сада изгледа овако:\n",
    "\n",
    "![Niz podataka](slike/Y102.jpg)"
   ]
  },
  {
   "cell_type": "markdown",
   "metadata": {},
   "source": [
    "Ако узмемо да низ `predmeti` садржи имена предмета из којих је Дејан оцењен:"
   ]
  },
  {
   "cell_type": "code",
   "execution_count": null,
   "metadata": {},
   "outputs": [],
   "source": [
    "predmeti"
   ]
  },
  {
   "cell_type": "markdown",
   "metadata": {},
   "source": [
    "онда Дејанове извештај о Дејановим оценама можемо  генерисати овако:"
   ]
  },
  {
   "cell_type": "code",
   "execution_count": null,
   "metadata": {},
   "outputs": [],
   "source": [
    "print(\"Dejanove ocene:\")\n",
    "for i in range(5):\n",
    "    print(predmeti[i], Dejanove_ocene[i])"
   ]
  },
  {
   "cell_type": "markdown",
   "metadata": {},
   "source": [
    "## 1.2. Дефинисање функција и минимум низа"
   ]
  },
  {
   "cell_type": "markdown",
   "metadata": {},
   "source": [
    "Када неки компликован процес треба поновити више пута, погодно је издвојити га у посебну малу целину (што се још зове и *функција*) и именовати га како бисмо касније могли да га позовемо кадгод нам затреба. На пример, ево функције која исписује извештај о оценама неког ученика:"
   ]
  },
  {
   "cell_type": "code",
   "execution_count": null,
   "metadata": {},
   "outputs": [],
   "source": [
    "def izvestaj_o_ocenama(ime_ucenika, spisak_predmeta, ocene):\n",
    "    print(\"Učenik:\", ime_ucenika)\n",
    "    print(\"Ocene:\")\n",
    "    n = len(spisak_predmeta)\n",
    "    for i in range(n):\n",
    "        print(spisak_predmeta[i], ocene[i])"
   ]
  },
  {
   "cell_type": "markdown",
   "metadata": {},
   "source": [
    "Извештај о Дејановим оценама сада лако можемо добити позивом ове функције:"
   ]
  },
  {
   "cell_type": "code",
   "execution_count": null,
   "metadata": {},
   "outputs": [],
   "source": [
    "izvestaj_o_ocenama(\"Dejan\", predmeti, Dejanove_ocene)"
   ]
  },
  {
   "cell_type": "markdown",
   "metadata": {},
   "source": [
    "Ако је ово списак Милениних оцена из истих предмета:"
   ]
  },
  {
   "cell_type": "code",
   "execution_count": null,
   "metadata": {},
   "outputs": [],
   "source": [
    "Milenine_ocene = [5,5,4,5,4]"
   ]
  },
  {
   "cell_type": "markdown",
   "metadata": {},
   "source": [
    "извештај о њеним оценама сада можемо добити на исти начин:"
   ]
  },
  {
   "cell_type": "code",
   "execution_count": null,
   "metadata": {},
   "outputs": [],
   "source": [
    "izvestaj_o_ocenama(\"Milena\", predmeti, Milenine_ocene)"
   ]
  },
  {
   "cell_type": "markdown",
   "metadata": {},
   "source": [
    "Функције могу да се користе и за аутоматизацију релативно компликованог рачунског процеса.\n",
    "\n",
    "**Пример.** Написати функцију `min_niza(A)` која одређује најмањи елемент низа `A` и враћа га као резучтат свог рада."
   ]
  },
  {
   "cell_type": "markdown",
   "metadata": {},
   "source": [
    "*Решење.* Погледајмо, прво, како бисмо овај проблем решили када тражимо мањи од два броја, А0 и А1:"
   ]
  },
  {
   "cell_type": "code",
   "execution_count": null,
   "metadata": {},
   "outputs": [],
   "source": [
    "def manji_od_dva(A0, A1):\n",
    "    if A0 < A1: return A0\n",
    "    else: return A1"
   ]
  },
  {
   "cell_type": "markdown",
   "metadata": {},
   "source": [
    "Дакле, ако је А0 мањи, то је резултат рада. У супротном је А1 резултат рада.\n",
    "\n",
    "Ова идеја ради у случају два броја, али није погодна за уопштења. Зато ћемо написати нову верзију функције `manji_od_dva` која на први поглед делује чудно, али ће ускоро постати јасно зашто је погодна."
   ]
  },
  {
   "cell_type": "code",
   "execution_count": null,
   "metadata": {},
   "outputs": [],
   "source": [
    "def manji_od_dva_ponovo(A0, A1):\n",
    "    manji = A0\n",
    "    if A1 < manji: manji = A1\n",
    "    return manji"
   ]
  },
  {
   "cell_type": "markdown",
   "metadata": {},
   "source": [
    "Идеја се састоји у томе да гледамо елементе један по један, као да нам долазе на траци. Када стигне први елемент, то је најмањи елемен кога смо до сада уочили. Када стугне други елемент проверимо како се он односи према до сада најмањем уоченом елементу и ако је мањи од најмањег до сада, он постаје нови најмањи елемент.\n",
    "\n",
    "Ево како се идеја коју смо управо описали проширује на три елемента:"
   ]
  },
  {
   "cell_type": "code",
   "execution_count": null,
   "metadata": {},
   "outputs": [],
   "source": [
    "def najmanji_od_tri(A0, A1, A2):\n",
    "    najmanji = A0\n",
    "    if A1 < najmanji: najmanji = A1\n",
    "    if A2 < najmanji: najmanji = A2\n",
    "    return najmanji"
   ]
  },
  {
   "cell_type": "markdown",
   "metadata": {},
   "source": [
    "и на ситуацију са пет елемената:"
   ]
  },
  {
   "cell_type": "code",
   "execution_count": null,
   "metadata": {},
   "outputs": [],
   "source": [
    "def najmanji_od_pet(A0, A1, A2, A3, A4):\n",
    "    najmanji = A0\n",
    "    if A1 < najmanji: najmanji = A1\n",
    "    if A2 < najmanji: najmanji = A2\n",
    "    if A3 < najmanji: najmanji = A3\n",
    "    if A4 < najmanji: najmanji = A4\n",
    "    return najmanji"
   ]
  },
  {
   "cell_type": "markdown",
   "metadata": {},
   "source": [
    "Видимо да се корак који садржи `if` понавља за сваки елемент посебно. Тако се ова идеја лако уопштава на произвољне низове:"
   ]
  },
  {
   "cell_type": "code",
   "execution_count": null,
   "metadata": {},
   "outputs": [],
   "source": [
    "def min_niza(A):\n",
    "    najmanji = A[0]\n",
    "    for i in range(len(A)):\n",
    "        if A[i] < najmanji: najmanji = A[i]\n",
    "    return najmanji"
   ]
  },
  {
   "cell_type": "markdown",
   "metadata": {},
   "source": [
    "Да проверимо како ова функција ради:"
   ]
  },
  {
   "cell_type": "code",
   "execution_count": null,
   "metadata": {},
   "outputs": [],
   "source": [
    "min_niza([3,1,5,0,2])"
   ]
  },
  {
   "cell_type": "markdown",
   "metadata": {},
   "source": [
    "## 1.3. Стандардне функције"
   ]
  },
  {
   "cell_type": "markdown",
   "metadata": {},
   "source": [
    "Како би се писање програма поједноставило за велики број важних задатака који се веома често користе у Пајтону већ постоје функције које их обављају. На пример, функција `len` рачуна дужину низа, као што смо већ видели:"
   ]
  },
  {
   "cell_type": "code",
   "execution_count": null,
   "metadata": {},
   "outputs": [],
   "source": [
    "len(predmeti)"
   ]
  },
  {
   "cell_type": "markdown",
   "metadata": {},
   "source": [
    "Одређивање најмањег и највећег елемента низа бројева спадају међу важне задатке, и зато Пајтон има уграђене функције `min` и `max` које могу да одреде најмањи, односно, највећи елемент неколико бројева који су унапред наведени, или целог низа бројева:"
   ]
  },
  {
   "cell_type": "code",
   "execution_count": null,
   "metadata": {},
   "outputs": [],
   "source": [
    "min(2,3)"
   ]
  },
  {
   "cell_type": "code",
   "execution_count": null,
   "metadata": {},
   "outputs": [],
   "source": [
    "max(4,5,-1)"
   ]
  },
  {
   "cell_type": "code",
   "execution_count": null,
   "metadata": {},
   "outputs": [],
   "source": [
    "min(Dejanove_ocene)"
   ]
  },
  {
   "cell_type": "code",
   "execution_count": null,
   "metadata": {},
   "outputs": [],
   "source": [
    "max(Dejanove_ocene)"
   ]
  },
  {
   "cell_type": "markdown",
   "metadata": {},
   "source": [
    "## 1.4. Задаци."
   ]
  },
  {
   "cell_type": "markdown",
   "metadata": {},
   "source": [
    "**Задатак 1.** У следеће низове унеси списак неких својих предмета и списак оцена из тих предмета, па испиши извештај о оценама позивом функције `izvestaj_o_ocenama`"
   ]
  },
  {
   "cell_type": "code",
   "execution_count": null,
   "metadata": {},
   "outputs": [],
   "source": [
    "moji_predmeti = [] # <-- ovde unesi nekoliko predmeta\n",
    "moje_ocene    = [] # <-- ovde unesi ocene iz tih predmeta\n",
    "izvestaj_o_ocenama(   ,   ,   )  # <-- popuni podatke koji nedostaju"
   ]
  },
  {
   "cell_type": "markdown",
   "metadata": {},
   "source": [
    "**Задатак 2.** Напиши функцију `najveci_od_tri(A0, A1, A2)` која рачуна  и враћа највећи од три дата броја, али без употребе стандардне функције `max`."
   ]
  },
  {
   "cell_type": "code",
   "execution_count": null,
   "metadata": {},
   "outputs": [],
   "source": []
  },
  {
   "cell_type": "markdown",
   "metadata": {},
   "source": [
    "**Задатак 3.** Напиши функцију `najveci_od_pet(A0, A1, A2, A3, A4)` која рачуна и враћа највећи од пет датих броја, али без употребе стандардне функције `max`."
   ]
  },
  {
   "cell_type": "code",
   "execution_count": null,
   "metadata": {},
   "outputs": [],
   "source": []
  },
  {
   "cell_type": "markdown",
   "metadata": {},
   "source": [
    "**Задатак 4.** Напиши функцију `max_niza(A)` која за дати низ А рачуна и враћа највећи елемент, али без употребе стандардне функције `max`."
   ]
  },
  {
   "cell_type": "code",
   "execution_count": null,
   "metadata": {},
   "outputs": [],
   "source": []
  },
  {
   "cell_type": "markdown",
   "metadata": {},
   "source": [
    "**Задатак 5.** Напиши функцију `min_i_max(A)` која исписује најмањи и највећи елемент низа А. (*Напомена: ова функција не треба да врати никакву вредност! Она само треба да испише два броја на екран.*)"
   ]
  },
  {
   "cell_type": "code",
   "execution_count": null,
   "metadata": {},
   "outputs": [],
   "source": []
  },
  {
   "cell_type": "markdown",
   "metadata": {},
   "source": [
    "**Задатак 6*.** Напиши функцију `srednji_od_tri(A0, A1, A2)` која рачуна и враћа средњи од три дата броја."
   ]
  },
  {
   "cell_type": "code",
   "execution_count": null,
   "metadata": {},
   "outputs": [],
   "source": []
  }
 ],
 "metadata": {
  "kernelspec": {
   "display_name": "Python 3",
   "language": "python",
   "name": "python3"
  },
  "language_info": {
   "codemirror_mode": {
    "name": "ipython",
    "version": 3
   },
   "file_extension": ".py",
   "mimetype": "text/x-python",
   "name": "python",
   "nbconvert_exporter": "python",
   "pygments_lexer": "ipython3",
   "version": "3.7.4"
  }
 },
 "nbformat": 4,
 "nbformat_minor": 2
}
